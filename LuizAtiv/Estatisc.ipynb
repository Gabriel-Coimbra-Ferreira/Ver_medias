{
 "cells": [
  {
   "cell_type": "code",
   "execution_count": 19,
   "metadata": {},
   "outputs": [
    {
     "data": {
      "text/html": [
       "<div>\n",
       "<style scoped>\n",
       "    .dataframe tbody tr th:only-of-type {\n",
       "        vertical-align: middle;\n",
       "    }\n",
       "\n",
       "    .dataframe tbody tr th {\n",
       "        vertical-align: top;\n",
       "    }\n",
       "\n",
       "    .dataframe thead th {\n",
       "        text-align: right;\n",
       "    }\n",
       "</style>\n",
       "<table border=\"1\" class=\"dataframe\">\n",
       "  <thead>\n",
       "    <tr style=\"text-align: right;\">\n",
       "      <th></th>\n",
       "      <th>Carimbo de data/hora</th>\n",
       "      <th>ID</th>\n",
       "      <th>Turma</th>\n",
       "      <th>Texto</th>\n",
       "      <th>INT1</th>\n",
       "      <th>INT2</th>\n",
       "      <th>INT3</th>\n",
       "      <th>INT4</th>\n",
       "      <th>INT5</th>\n",
       "      <th>INT6</th>\n",
       "      <th>INT7</th>\n",
       "    </tr>\n",
       "  </thead>\n",
       "  <tbody>\n",
       "    <tr>\n",
       "      <th>0</th>\n",
       "      <td>2023-08-16 20:40:14.325</td>\n",
       "      <td>1</td>\n",
       "      <td>A</td>\n",
       "      <td>B</td>\n",
       "      <td>3</td>\n",
       "      <td>6</td>\n",
       "      <td>6</td>\n",
       "      <td>6</td>\n",
       "      <td>2</td>\n",
       "      <td>6</td>\n",
       "      <td>6</td>\n",
       "    </tr>\n",
       "    <tr>\n",
       "      <th>1</th>\n",
       "      <td>2023-08-16 20:30:25.504</td>\n",
       "      <td>1</td>\n",
       "      <td>A</td>\n",
       "      <td>A</td>\n",
       "      <td>2</td>\n",
       "      <td>6</td>\n",
       "      <td>5</td>\n",
       "      <td>5</td>\n",
       "      <td>2</td>\n",
       "      <td>6</td>\n",
       "      <td>6</td>\n",
       "    </tr>\n",
       "    <tr>\n",
       "      <th>2</th>\n",
       "      <td>2023-08-16 20:40:12.036</td>\n",
       "      <td>2</td>\n",
       "      <td>A</td>\n",
       "      <td>B</td>\n",
       "      <td>5</td>\n",
       "      <td>4</td>\n",
       "      <td>4</td>\n",
       "      <td>5</td>\n",
       "      <td>4</td>\n",
       "      <td>4</td>\n",
       "      <td>6</td>\n",
       "    </tr>\n",
       "    <tr>\n",
       "      <th>3</th>\n",
       "      <td>2023-08-16 20:30:59.127</td>\n",
       "      <td>2</td>\n",
       "      <td>A</td>\n",
       "      <td>A</td>\n",
       "      <td>5</td>\n",
       "      <td>5</td>\n",
       "      <td>3</td>\n",
       "      <td>3</td>\n",
       "      <td>1</td>\n",
       "      <td>5</td>\n",
       "      <td>7</td>\n",
       "    </tr>\n",
       "    <tr>\n",
       "      <th>4</th>\n",
       "      <td>2023-08-16 20:44:03.256</td>\n",
       "      <td>3</td>\n",
       "      <td>A</td>\n",
       "      <td>B</td>\n",
       "      <td>6</td>\n",
       "      <td>5</td>\n",
       "      <td>1</td>\n",
       "      <td>1</td>\n",
       "      <td>7</td>\n",
       "      <td>7</td>\n",
       "      <td>1</td>\n",
       "    </tr>\n",
       "  </tbody>\n",
       "</table>\n",
       "</div>"
      ],
      "text/plain": [
       "     Carimbo de data/hora  ID Turma Texto  INT1  INT2  INT3  INT4  INT5  INT6  \\\n",
       "0 2023-08-16 20:40:14.325   1     A     B     3     6     6     6     2     6   \n",
       "1 2023-08-16 20:30:25.504   1     A     A     2     6     5     5     2     6   \n",
       "2 2023-08-16 20:40:12.036   2     A     B     5     4     4     5     4     4   \n",
       "3 2023-08-16 20:30:59.127   2     A     A     5     5     3     3     1     5   \n",
       "4 2023-08-16 20:44:03.256   3     A     B     6     5     1     1     7     7   \n",
       "\n",
       "   INT7  \n",
       "0     6  \n",
       "1     6  \n",
       "2     6  \n",
       "3     7  \n",
       "4     1  "
      ]
     },
     "execution_count": 19,
     "metadata": {},
     "output_type": "execute_result"
    }
   ],
   "source": [
    "import pandas as pd\n",
    "import pingouin as pg\n",
    "import numpy as np\n",
    "dados = pd.read_excel(\"DadosLeituras2o.xlsx\")\n",
    "dados.head()"
   ]
  },
  {
   "cell_type": "code",
   "execution_count": 7,
   "metadata": {},
   "outputs": [
    {
     "name": "stdout",
     "output_type": "stream",
     "text": [
      "<class 'pandas.core.frame.DataFrame'>\n",
      "RangeIndex: 109 entries, 0 to 108\n",
      "Data columns (total 11 columns):\n",
      " #   Column                Non-Null Count  Dtype         \n",
      "---  ------                --------------  -----         \n",
      " 0   Carimbo de data/hora  109 non-null    datetime64[ns]\n",
      " 1   ID                    109 non-null    int64         \n",
      " 2   Turma                 109 non-null    object        \n",
      " 3   Texto                 109 non-null    object        \n",
      " 4   INT1                  109 non-null    int64         \n",
      " 5   INT2                  109 non-null    int64         \n",
      " 6   INT3                  109 non-null    int64         \n",
      " 7   INT4                  109 non-null    int64         \n",
      " 8   INT5                  109 non-null    int64         \n",
      " 9   INT6                  109 non-null    int64         \n",
      " 10  INT7                  109 non-null    int64         \n",
      "dtypes: datetime64[ns](1), int64(8), object(2)\n",
      "memory usage: 9.5+ KB\n"
     ]
    }
   ],
   "source": [
    "dados.info()"
   ]
  },
  {
   "cell_type": "code",
   "execution_count": 8,
   "metadata": {},
   "outputs": [
    {
     "data": {
      "text/html": [
       "<div>\n",
       "<style scoped>\n",
       "    .dataframe tbody tr th:only-of-type {\n",
       "        vertical-align: middle;\n",
       "    }\n",
       "\n",
       "    .dataframe tbody tr th {\n",
       "        vertical-align: top;\n",
       "    }\n",
       "\n",
       "    .dataframe thead th {\n",
       "        text-align: right;\n",
       "    }\n",
       "</style>\n",
       "<table border=\"1\" class=\"dataframe\">\n",
       "  <thead>\n",
       "    <tr style=\"text-align: right;\">\n",
       "      <th></th>\n",
       "      <th>Carimbo de data/hora</th>\n",
       "      <th>ID</th>\n",
       "      <th>INT1</th>\n",
       "      <th>INT2</th>\n",
       "      <th>INT3</th>\n",
       "      <th>INT4</th>\n",
       "      <th>INT5</th>\n",
       "      <th>INT6</th>\n",
       "      <th>INT7</th>\n",
       "    </tr>\n",
       "  </thead>\n",
       "  <tbody>\n",
       "    <tr>\n",
       "      <th>count</th>\n",
       "      <td>109</td>\n",
       "      <td>109.000000</td>\n",
       "      <td>109.000000</td>\n",
       "      <td>109.000000</td>\n",
       "      <td>109.000000</td>\n",
       "      <td>109.000000</td>\n",
       "      <td>109.000000</td>\n",
       "      <td>109.000000</td>\n",
       "      <td>109.00000</td>\n",
       "    </tr>\n",
       "    <tr>\n",
       "      <th>mean</th>\n",
       "      <td>2023-08-19 14:24:39.436596224</td>\n",
       "      <td>28.467890</td>\n",
       "      <td>4.477064</td>\n",
       "      <td>5.055046</td>\n",
       "      <td>4.220183</td>\n",
       "      <td>4.311927</td>\n",
       "      <td>2.935780</td>\n",
       "      <td>4.926606</td>\n",
       "      <td>4.66055</td>\n",
       "    </tr>\n",
       "    <tr>\n",
       "      <th>min</th>\n",
       "      <td>2023-08-16 20:28:09.434000</td>\n",
       "      <td>-1.000000</td>\n",
       "      <td>1.000000</td>\n",
       "      <td>1.000000</td>\n",
       "      <td>1.000000</td>\n",
       "      <td>1.000000</td>\n",
       "      <td>1.000000</td>\n",
       "      <td>1.000000</td>\n",
       "      <td>1.00000</td>\n",
       "    </tr>\n",
       "    <tr>\n",
       "      <th>25%</th>\n",
       "      <td>2023-08-16 20:39:51.788000</td>\n",
       "      <td>14.000000</td>\n",
       "      <td>4.000000</td>\n",
       "      <td>4.000000</td>\n",
       "      <td>3.000000</td>\n",
       "      <td>4.000000</td>\n",
       "      <td>1.000000</td>\n",
       "      <td>4.000000</td>\n",
       "      <td>4.00000</td>\n",
       "    </tr>\n",
       "    <tr>\n",
       "      <th>50%</th>\n",
       "      <td>2023-08-16 21:07:20.243000064</td>\n",
       "      <td>29.000000</td>\n",
       "      <td>4.000000</td>\n",
       "      <td>5.000000</td>\n",
       "      <td>4.000000</td>\n",
       "      <td>4.000000</td>\n",
       "      <td>3.000000</td>\n",
       "      <td>5.000000</td>\n",
       "      <td>5.00000</td>\n",
       "    </tr>\n",
       "    <tr>\n",
       "      <th>75%</th>\n",
       "      <td>2023-08-22 19:56:26.238000128</td>\n",
       "      <td>43.000000</td>\n",
       "      <td>5.000000</td>\n",
       "      <td>6.000000</td>\n",
       "      <td>5.000000</td>\n",
       "      <td>5.000000</td>\n",
       "      <td>4.000000</td>\n",
       "      <td>6.000000</td>\n",
       "      <td>6.00000</td>\n",
       "    </tr>\n",
       "    <tr>\n",
       "      <th>max</th>\n",
       "      <td>2023-08-22 20:06:47.046000</td>\n",
       "      <td>57.000000</td>\n",
       "      <td>7.000000</td>\n",
       "      <td>7.000000</td>\n",
       "      <td>7.000000</td>\n",
       "      <td>7.000000</td>\n",
       "      <td>7.000000</td>\n",
       "      <td>7.000000</td>\n",
       "      <td>7.00000</td>\n",
       "    </tr>\n",
       "    <tr>\n",
       "      <th>std</th>\n",
       "      <td>NaN</td>\n",
       "      <td>16.903631</td>\n",
       "      <td>1.543183</td>\n",
       "      <td>1.451914</td>\n",
       "      <td>1.571493</td>\n",
       "      <td>1.549774</td>\n",
       "      <td>1.796474</td>\n",
       "      <td>1.602697</td>\n",
       "      <td>1.69542</td>\n",
       "    </tr>\n",
       "  </tbody>\n",
       "</table>\n",
       "</div>"
      ],
      "text/plain": [
       "                Carimbo de data/hora          ID        INT1        INT2  \\\n",
       "count                            109  109.000000  109.000000  109.000000   \n",
       "mean   2023-08-19 14:24:39.436596224   28.467890    4.477064    5.055046   \n",
       "min       2023-08-16 20:28:09.434000   -1.000000    1.000000    1.000000   \n",
       "25%       2023-08-16 20:39:51.788000   14.000000    4.000000    4.000000   \n",
       "50%    2023-08-16 21:07:20.243000064   29.000000    4.000000    5.000000   \n",
       "75%    2023-08-22 19:56:26.238000128   43.000000    5.000000    6.000000   \n",
       "max       2023-08-22 20:06:47.046000   57.000000    7.000000    7.000000   \n",
       "std                              NaN   16.903631    1.543183    1.451914   \n",
       "\n",
       "             INT3        INT4        INT5        INT6       INT7  \n",
       "count  109.000000  109.000000  109.000000  109.000000  109.00000  \n",
       "mean     4.220183    4.311927    2.935780    4.926606    4.66055  \n",
       "min      1.000000    1.000000    1.000000    1.000000    1.00000  \n",
       "25%      3.000000    4.000000    1.000000    4.000000    4.00000  \n",
       "50%      4.000000    4.000000    3.000000    5.000000    5.00000  \n",
       "75%      5.000000    5.000000    4.000000    6.000000    6.00000  \n",
       "max      7.000000    7.000000    7.000000    7.000000    7.00000  \n",
       "std      1.571493    1.549774    1.796474    1.602697    1.69542  "
      ]
     },
     "execution_count": 8,
     "metadata": {},
     "output_type": "execute_result"
    }
   ],
   "source": [
    "dados.describe()"
   ]
  },
  {
   "cell_type": "code",
   "execution_count": 9,
   "metadata": {},
   "outputs": [
    {
     "data": {
      "text/plain": [
       "Turma\n",
       "A    59\n",
       "B    50\n",
       "Name: count, dtype: int64"
      ]
     },
     "execution_count": 9,
     "metadata": {},
     "output_type": "execute_result"
    }
   ],
   "source": [
    "dados.Turma.value_counts()"
   ]
  },
  {
   "cell_type": "code",
   "execution_count": 10,
   "metadata": {},
   "outputs": [
    {
     "data": {
      "text/plain": [
       "Texto\n",
       "B    58\n",
       "A    51\n",
       "Name: count, dtype: int64"
      ]
     },
     "execution_count": 10,
     "metadata": {},
     "output_type": "execute_result"
    }
   ],
   "source": [
    "dados.Texto.value_counts()"
   ]
  },
  {
   "cell_type": "code",
   "execution_count": 11,
   "metadata": {},
   "outputs": [
    {
     "name": "stdout",
     "output_type": "stream",
     "text": [
      "0      2\n",
      "1      2\n",
      "2      4\n",
      "3      1\n",
      "4      7\n",
      "      ..\n",
      "104    2\n",
      "105    2\n",
      "106    2\n",
      "107    3\n",
      "108    4\n",
      "Name: INT5, Length: 109, dtype: int64\n",
      "0      6\n",
      "1      6\n",
      "2      4\n",
      "3      7\n",
      "4      1\n",
      "      ..\n",
      "104    6\n",
      "105    6\n",
      "106    6\n",
      "107    5\n",
      "108    4\n",
      "Name: INT5, Length: 109, dtype: int64\n"
     ]
    }
   ],
   "source": [
    "print(dados.INT5)\n",
    "dados.INT5 = dados.INT5.map({1: 7, 2: 6, 3: 5, 4: 4, 5: 3, 6: 2, 7: 1})\n",
    "print(dados.INT5)"
   ]
  },
  {
   "cell_type": "code",
   "execution_count": 12,
   "metadata": {},
   "outputs": [
    {
     "data": {
      "text/plain": [
       "0      5.571429\n",
       "1      5.142857\n",
       "2      4.571429\n",
       "3      5.000000\n",
       "4      3.142857\n",
       "         ...   \n",
       "104    4.714286\n",
       "105    4.428571\n",
       "106    6.142857\n",
       "107    4.857143\n",
       "108    4.428571\n",
       "Length: 109, dtype: float64"
      ]
     },
     "execution_count": 12,
     "metadata": {},
     "output_type": "execute_result"
    }
   ],
   "source": [
    "\n",
    "interesse = (dados.INT1 + dados.INT2 + dados.INT3 + dados.INT4 + dados.INT5 + dados.INT6 + dados.INT7) / 7\n",
    "interesse"
   ]
  },
  {
   "cell_type": "code",
   "execution_count": 28,
   "metadata": {},
   "outputs": [
    {
     "data": {
      "text/plain": [
       "0      5.571429\n",
       "1      5.142857\n",
       "2      4.571429\n",
       "3      5.000000\n",
       "4      3.142857\n",
       "         ...   \n",
       "104    4.714286\n",
       "105    4.428571\n",
       "106    6.142857\n",
       "107    4.857143\n",
       "108    4.428571\n",
       "Name: INT, Length: 109, dtype: float64"
      ]
     },
     "execution_count": 28,
     "metadata": {},
     "output_type": "execute_result"
    }
   ],
   "source": [
    "dados[\"INT\"] = interesse\n",
    "dados.INT\n"
   ]
  },
  {
   "cell_type": "code",
   "execution_count": 14,
   "metadata": {},
   "outputs": [
    {
     "name": "stdout",
     "output_type": "stream",
     "text": [
      "(109, 12)\n",
      "(107, 12)\n"
     ]
    }
   ],
   "source": [
    "print(dados.shape)\n",
    "dados = dados[dados.ID >= 0]\n",
    "print(dados.shape)"
   ]
  },
  {
   "cell_type": "code",
   "execution_count": 15,
   "metadata": {},
   "outputs": [
    {
     "name": "stdout",
     "output_type": "stream",
     "text": [
      "(107, 12)\n",
      "(100, 12)\n"
     ]
    }
   ],
   "source": [
    "print(dados.shape)\n",
    "\n",
    "ids_duplos = dados.ID.value_counts().loc[lambda s: s == 2].index.tolist()\n",
    "\n",
    "dados = dados[dados.ID.isin(ids_duplos)]\n",
    "\n",
    "print(dados.shape)"
   ]
  },
  {
   "cell_type": "code",
   "execution_count": 20,
   "metadata": {},
   "outputs": [
    {
     "data": {
      "text/plain": [
       "(0.6150139152491525, array([0.494, 0.716]))"
      ]
     },
     "execution_count": 20,
     "metadata": {},
     "output_type": "execute_result"
    }
   ],
   "source": [
    "pg.cronbach_alpha(data=dados[['INT1', 'INT2', 'INT3', 'INT4', 'INT5', 'INT6', 'INT7']])"
   ]
  },
  {
   "cell_type": "code",
   "execution_count": 21,
   "metadata": {},
   "outputs": [
    {
     "name": "stdout",
     "output_type": "stream",
     "text": [
      "<class 'pandas.core.frame.DataFrame'>\n",
      "RangeIndex: 109 entries, 0 to 108\n",
      "Data columns (total 11 columns):\n",
      " #   Column                Non-Null Count  Dtype         \n",
      "---  ------                --------------  -----         \n",
      " 0   Carimbo de data/hora  109 non-null    datetime64[ns]\n",
      " 1   ID                    109 non-null    int64         \n",
      " 2   Turma                 109 non-null    object        \n",
      " 3   Texto                 109 non-null    object        \n",
      " 4   INT1                  109 non-null    int64         \n",
      " 5   INT2                  109 non-null    int64         \n",
      " 6   INT3                  109 non-null    int64         \n",
      " 7   INT4                  109 non-null    int64         \n",
      " 8   INT5                  109 non-null    int64         \n",
      " 9   INT6                  109 non-null    int64         \n",
      " 10  INT7                  109 non-null    int64         \n",
      "dtypes: datetime64[ns](1), int64(8), object(2)\n",
      "memory usage: 9.5+ KB\n"
     ]
    }
   ],
   "source": [
    "dados.info()"
   ]
  },
  {
   "cell_type": "code",
   "execution_count": 22,
   "metadata": {},
   "outputs": [
    {
     "data": {
      "text/html": [
       "<div>\n",
       "<style scoped>\n",
       "    .dataframe tbody tr th:only-of-type {\n",
       "        vertical-align: middle;\n",
       "    }\n",
       "\n",
       "    .dataframe tbody tr th {\n",
       "        vertical-align: top;\n",
       "    }\n",
       "\n",
       "    .dataframe thead th {\n",
       "        text-align: right;\n",
       "    }\n",
       "</style>\n",
       "<table border=\"1\" class=\"dataframe\">\n",
       "  <thead>\n",
       "    <tr style=\"text-align: right;\">\n",
       "      <th></th>\n",
       "      <th>Carimbo de data/hora</th>\n",
       "      <th>ID</th>\n",
       "      <th>INT1</th>\n",
       "      <th>INT2</th>\n",
       "      <th>INT3</th>\n",
       "      <th>INT4</th>\n",
       "      <th>INT5</th>\n",
       "      <th>INT6</th>\n",
       "      <th>INT7</th>\n",
       "    </tr>\n",
       "  </thead>\n",
       "  <tbody>\n",
       "    <tr>\n",
       "      <th>count</th>\n",
       "      <td>109</td>\n",
       "      <td>109.000000</td>\n",
       "      <td>109.000000</td>\n",
       "      <td>109.000000</td>\n",
       "      <td>109.000000</td>\n",
       "      <td>109.000000</td>\n",
       "      <td>109.000000</td>\n",
       "      <td>109.000000</td>\n",
       "      <td>109.00000</td>\n",
       "    </tr>\n",
       "    <tr>\n",
       "      <th>mean</th>\n",
       "      <td>2023-08-19 14:24:39.436596224</td>\n",
       "      <td>28.467890</td>\n",
       "      <td>4.477064</td>\n",
       "      <td>5.055046</td>\n",
       "      <td>4.220183</td>\n",
       "      <td>4.311927</td>\n",
       "      <td>2.935780</td>\n",
       "      <td>4.926606</td>\n",
       "      <td>4.66055</td>\n",
       "    </tr>\n",
       "    <tr>\n",
       "      <th>min</th>\n",
       "      <td>2023-08-16 20:28:09.434000</td>\n",
       "      <td>-1.000000</td>\n",
       "      <td>1.000000</td>\n",
       "      <td>1.000000</td>\n",
       "      <td>1.000000</td>\n",
       "      <td>1.000000</td>\n",
       "      <td>1.000000</td>\n",
       "      <td>1.000000</td>\n",
       "      <td>1.00000</td>\n",
       "    </tr>\n",
       "    <tr>\n",
       "      <th>25%</th>\n",
       "      <td>2023-08-16 20:39:51.788000</td>\n",
       "      <td>14.000000</td>\n",
       "      <td>4.000000</td>\n",
       "      <td>4.000000</td>\n",
       "      <td>3.000000</td>\n",
       "      <td>4.000000</td>\n",
       "      <td>1.000000</td>\n",
       "      <td>4.000000</td>\n",
       "      <td>4.00000</td>\n",
       "    </tr>\n",
       "    <tr>\n",
       "      <th>50%</th>\n",
       "      <td>2023-08-16 21:07:20.243000064</td>\n",
       "      <td>29.000000</td>\n",
       "      <td>4.000000</td>\n",
       "      <td>5.000000</td>\n",
       "      <td>4.000000</td>\n",
       "      <td>4.000000</td>\n",
       "      <td>3.000000</td>\n",
       "      <td>5.000000</td>\n",
       "      <td>5.00000</td>\n",
       "    </tr>\n",
       "    <tr>\n",
       "      <th>75%</th>\n",
       "      <td>2023-08-22 19:56:26.238000128</td>\n",
       "      <td>43.000000</td>\n",
       "      <td>5.000000</td>\n",
       "      <td>6.000000</td>\n",
       "      <td>5.000000</td>\n",
       "      <td>5.000000</td>\n",
       "      <td>4.000000</td>\n",
       "      <td>6.000000</td>\n",
       "      <td>6.00000</td>\n",
       "    </tr>\n",
       "    <tr>\n",
       "      <th>max</th>\n",
       "      <td>2023-08-22 20:06:47.046000</td>\n",
       "      <td>57.000000</td>\n",
       "      <td>7.000000</td>\n",
       "      <td>7.000000</td>\n",
       "      <td>7.000000</td>\n",
       "      <td>7.000000</td>\n",
       "      <td>7.000000</td>\n",
       "      <td>7.000000</td>\n",
       "      <td>7.00000</td>\n",
       "    </tr>\n",
       "    <tr>\n",
       "      <th>std</th>\n",
       "      <td>NaN</td>\n",
       "      <td>16.903631</td>\n",
       "      <td>1.543183</td>\n",
       "      <td>1.451914</td>\n",
       "      <td>1.571493</td>\n",
       "      <td>1.549774</td>\n",
       "      <td>1.796474</td>\n",
       "      <td>1.602697</td>\n",
       "      <td>1.69542</td>\n",
       "    </tr>\n",
       "  </tbody>\n",
       "</table>\n",
       "</div>"
      ],
      "text/plain": [
       "                Carimbo de data/hora          ID        INT1        INT2  \\\n",
       "count                            109  109.000000  109.000000  109.000000   \n",
       "mean   2023-08-19 14:24:39.436596224   28.467890    4.477064    5.055046   \n",
       "min       2023-08-16 20:28:09.434000   -1.000000    1.000000    1.000000   \n",
       "25%       2023-08-16 20:39:51.788000   14.000000    4.000000    4.000000   \n",
       "50%    2023-08-16 21:07:20.243000064   29.000000    4.000000    5.000000   \n",
       "75%    2023-08-22 19:56:26.238000128   43.000000    5.000000    6.000000   \n",
       "max       2023-08-22 20:06:47.046000   57.000000    7.000000    7.000000   \n",
       "std                              NaN   16.903631    1.543183    1.451914   \n",
       "\n",
       "             INT3        INT4        INT5        INT6       INT7  \n",
       "count  109.000000  109.000000  109.000000  109.000000  109.00000  \n",
       "mean     4.220183    4.311927    2.935780    4.926606    4.66055  \n",
       "min      1.000000    1.000000    1.000000    1.000000    1.00000  \n",
       "25%      3.000000    4.000000    1.000000    4.000000    4.00000  \n",
       "50%      4.000000    4.000000    3.000000    5.000000    5.00000  \n",
       "75%      5.000000    5.000000    4.000000    6.000000    6.00000  \n",
       "max      7.000000    7.000000    7.000000    7.000000    7.00000  \n",
       "std      1.571493    1.549774    1.796474    1.602697    1.69542  "
      ]
     },
     "execution_count": 22,
     "metadata": {},
     "output_type": "execute_result"
    }
   ],
   "source": [
    "dados.describe()"
   ]
  },
  {
   "cell_type": "code",
   "execution_count": 23,
   "metadata": {},
   "outputs": [
    {
     "data": {
      "text/html": [
       "<div>\n",
       "<style scoped>\n",
       "    .dataframe tbody tr th:only-of-type {\n",
       "        vertical-align: middle;\n",
       "    }\n",
       "\n",
       "    .dataframe tbody tr th {\n",
       "        vertical-align: top;\n",
       "    }\n",
       "\n",
       "    .dataframe thead th {\n",
       "        text-align: right;\n",
       "    }\n",
       "</style>\n",
       "<table border=\"1\" class=\"dataframe\">\n",
       "  <thead>\n",
       "    <tr style=\"text-align: right;\">\n",
       "      <th></th>\n",
       "      <th>Turma</th>\n",
       "      <th>Texto</th>\n",
       "    </tr>\n",
       "  </thead>\n",
       "  <tbody>\n",
       "    <tr>\n",
       "      <th>count</th>\n",
       "      <td>109</td>\n",
       "      <td>109</td>\n",
       "    </tr>\n",
       "    <tr>\n",
       "      <th>unique</th>\n",
       "      <td>2</td>\n",
       "      <td>2</td>\n",
       "    </tr>\n",
       "    <tr>\n",
       "      <th>top</th>\n",
       "      <td>A</td>\n",
       "      <td>B</td>\n",
       "    </tr>\n",
       "    <tr>\n",
       "      <th>freq</th>\n",
       "      <td>59</td>\n",
       "      <td>58</td>\n",
       "    </tr>\n",
       "  </tbody>\n",
       "</table>\n",
       "</div>"
      ],
      "text/plain": [
       "       Turma Texto\n",
       "count    109   109\n",
       "unique     2     2\n",
       "top        A     B\n",
       "freq      59    58"
      ]
     },
     "execution_count": 23,
     "metadata": {},
     "output_type": "execute_result"
    }
   ],
   "source": [
    "dados.describe(include = \"object\")"
   ]
  },
  {
   "cell_type": "code",
   "execution_count": 24,
   "metadata": {},
   "outputs": [],
   "source": [
    "dados.to_csv(\"Dados Preparados.csv\")"
   ]
  },
  {
   "cell_type": "code",
   "execution_count": 29,
   "metadata": {},
   "outputs": [
    {
     "data": {
      "text/plain": [
       "4.673656618610748"
      ]
     },
     "execution_count": 29,
     "metadata": {},
     "output_type": "execute_result"
    }
   ],
   "source": [
    "#atividade 1 media\n",
    "dados.INT.mean()"
   ]
  },
  {
   "cell_type": "code",
   "execution_count": 32,
   "metadata": {},
   "outputs": [],
   "source": [
    "#atividade 2\n",
    "media_por_turma = dados.groupby('Turma')[['INT1','INT2','INT3','INT4','INT5','INT6','INT7',]].mean()\n",
    "estatisticas_resumidas = media_por_turma.describe()"
   ]
  },
  {
   "cell_type": "code",
   "execution_count": 34,
   "metadata": {},
   "outputs": [
    {
     "name": "stdout",
     "output_type": "stream",
     "text": [
      "           INT1      INT2      INT3      INT4      INT5      INT6      INT7\n",
      "Turma                                                                      \n",
      "A      4.474576  4.949153  4.016949  4.271186  3.016949  5.016949  4.661017\n",
      "B      4.480000  5.180000  4.460000  4.360000  2.840000  4.820000  4.660000\n"
     ]
    }
   ],
   "source": [
    "print(media_por_turma)"
   ]
  },
  {
   "cell_type": "code",
   "execution_count": 35,
   "metadata": {},
   "outputs": [],
   "source": [
    "#atividade 3\n",
    "media_de_texto = dados.groupby('Texto')[['INT1','INT2','INT3','INT4','INT5','INT6','INT7',]].mean()\n",
    "estatisticas_resumidas = media_de_texto.describe()"
   ]
  },
  {
   "cell_type": "code",
   "execution_count": 36,
   "metadata": {},
   "outputs": [
    {
     "name": "stdout",
     "output_type": "stream",
     "text": [
      "           INT1      INT2      INT3      INT4     INT5      INT6      INT7\n",
      "Texto                                                                     \n",
      "A      4.392157  5.058824  3.941176  4.215686  3.00000  4.921569  4.607843\n",
      "B      4.551724  5.051724  4.465517  4.396552  2.87931  4.931034  4.706897\n"
     ]
    }
   ],
   "source": [
    "print(media_de_texto)"
   ]
  }
 ],
 "metadata": {
  "kernelspec": {
   "display_name": "Python 3",
   "language": "python",
   "name": "python3"
  },
  "language_info": {
   "codemirror_mode": {
    "name": "ipython",
    "version": 3
   },
   "file_extension": ".py",
   "mimetype": "text/x-python",
   "name": "python",
   "nbconvert_exporter": "python",
   "pygments_lexer": "ipython3",
   "version": "3.11.4"
  },
  "orig_nbformat": 4
 },
 "nbformat": 4,
 "nbformat_minor": 2
}
