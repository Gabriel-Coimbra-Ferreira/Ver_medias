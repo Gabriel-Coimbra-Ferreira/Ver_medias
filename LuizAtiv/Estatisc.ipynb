{
 "cells": [
  {
   "cell_type": "code",
   "execution_count": 13,
   "metadata": {},
   "outputs": [
    {
     "data": {
      "text/html": [
       "<div>\n",
       "<style scoped>\n",
       "    .dataframe tbody tr th:only-of-type {\n",
       "        vertical-align: middle;\n",
       "    }\n",
       "\n",
       "    .dataframe tbody tr th {\n",
       "        vertical-align: top;\n",
       "    }\n",
       "\n",
       "    .dataframe thead th {\n",
       "        text-align: right;\n",
       "    }\n",
       "</style>\n",
       "<table border=\"1\" class=\"dataframe\">\n",
       "  <thead>\n",
       "    <tr style=\"text-align: right;\">\n",
       "      <th></th>\n",
       "      <th>Carimbo de data/hora</th>\n",
       "      <th>ID</th>\n",
       "      <th>Turma</th>\n",
       "      <th>Texto</th>\n",
       "      <th>INT1</th>\n",
       "      <th>INT2</th>\n",
       "      <th>INT3</th>\n",
       "      <th>INT4</th>\n",
       "      <th>INT5</th>\n",
       "      <th>INT6</th>\n",
       "      <th>INT7</th>\n",
       "    </tr>\n",
       "  </thead>\n",
       "  <tbody>\n",
       "    <tr>\n",
       "      <th>0</th>\n",
       "      <td>2023-08-16 20:40:14.325</td>\n",
       "      <td>1</td>\n",
       "      <td>A</td>\n",
       "      <td>B</td>\n",
       "      <td>3</td>\n",
       "      <td>6</td>\n",
       "      <td>6</td>\n",
       "      <td>6</td>\n",
       "      <td>2</td>\n",
       "      <td>6</td>\n",
       "      <td>6</td>\n",
       "    </tr>\n",
       "    <tr>\n",
       "      <th>1</th>\n",
       "      <td>2023-08-16 20:30:25.504</td>\n",
       "      <td>1</td>\n",
       "      <td>A</td>\n",
       "      <td>A</td>\n",
       "      <td>2</td>\n",
       "      <td>6</td>\n",
       "      <td>5</td>\n",
       "      <td>5</td>\n",
       "      <td>2</td>\n",
       "      <td>6</td>\n",
       "      <td>6</td>\n",
       "    </tr>\n",
       "    <tr>\n",
       "      <th>2</th>\n",
       "      <td>2023-08-16 20:40:12.036</td>\n",
       "      <td>2</td>\n",
       "      <td>A</td>\n",
       "      <td>B</td>\n",
       "      <td>5</td>\n",
       "      <td>4</td>\n",
       "      <td>4</td>\n",
       "      <td>5</td>\n",
       "      <td>4</td>\n",
       "      <td>4</td>\n",
       "      <td>6</td>\n",
       "    </tr>\n",
       "    <tr>\n",
       "      <th>3</th>\n",
       "      <td>2023-08-16 20:30:59.127</td>\n",
       "      <td>2</td>\n",
       "      <td>A</td>\n",
       "      <td>A</td>\n",
       "      <td>5</td>\n",
       "      <td>5</td>\n",
       "      <td>3</td>\n",
       "      <td>3</td>\n",
       "      <td>1</td>\n",
       "      <td>5</td>\n",
       "      <td>7</td>\n",
       "    </tr>\n",
       "    <tr>\n",
       "      <th>4</th>\n",
       "      <td>2023-08-16 20:44:03.256</td>\n",
       "      <td>3</td>\n",
       "      <td>A</td>\n",
       "      <td>B</td>\n",
       "      <td>6</td>\n",
       "      <td>5</td>\n",
       "      <td>1</td>\n",
       "      <td>1</td>\n",
       "      <td>7</td>\n",
       "      <td>7</td>\n",
       "      <td>1</td>\n",
       "    </tr>\n",
       "  </tbody>\n",
       "</table>\n",
       "</div>"
      ],
      "text/plain": [
       "     Carimbo de data/hora  ID Turma Texto  INT1  INT2  INT3  INT4  INT5  INT6  \\\n",
       "0 2023-08-16 20:40:14.325   1     A     B     3     6     6     6     2     6   \n",
       "1 2023-08-16 20:30:25.504   1     A     A     2     6     5     5     2     6   \n",
       "2 2023-08-16 20:40:12.036   2     A     B     5     4     4     5     4     4   \n",
       "3 2023-08-16 20:30:59.127   2     A     A     5     5     3     3     1     5   \n",
       "4 2023-08-16 20:44:03.256   3     A     B     6     5     1     1     7     7   \n",
       "\n",
       "   INT7  \n",
       "0     6  \n",
       "1     6  \n",
       "2     6  \n",
       "3     7  \n",
       "4     1  "
      ]
     },
     "execution_count": 13,
     "metadata": {},
     "output_type": "execute_result"
    }
   ],
   "source": [
    "import pandas as pd\n",
    "import pingouin as pg\n",
    "import numpy as np\n",
    "from scipy import stats\n",
    "dados = pd.read_excel(\"DadosLeituras2o.xlsx\")\n",
    "dados.head()"
   ]
  },
  {
   "cell_type": "code",
   "execution_count": 14,
   "metadata": {},
   "outputs": [
    {
     "name": "stdout",
     "output_type": "stream",
     "text": [
      "<class 'pandas.core.frame.DataFrame'>\n",
      "RangeIndex: 109 entries, 0 to 108\n",
      "Data columns (total 11 columns):\n",
      " #   Column                Non-Null Count  Dtype         \n",
      "---  ------                --------------  -----         \n",
      " 0   Carimbo de data/hora  109 non-null    datetime64[ns]\n",
      " 1   ID                    109 non-null    int64         \n",
      " 2   Turma                 109 non-null    object        \n",
      " 3   Texto                 109 non-null    object        \n",
      " 4   INT1                  109 non-null    int64         \n",
      " 5   INT2                  109 non-null    int64         \n",
      " 6   INT3                  109 non-null    int64         \n",
      " 7   INT4                  109 non-null    int64         \n",
      " 8   INT5                  109 non-null    int64         \n",
      " 9   INT6                  109 non-null    int64         \n",
      " 10  INT7                  109 non-null    int64         \n",
      "dtypes: datetime64[ns](1), int64(8), object(2)\n",
      "memory usage: 9.5+ KB\n"
     ]
    }
   ],
   "source": [
    "dados.info()"
   ]
  },
  {
   "cell_type": "code",
   "execution_count": 15,
   "metadata": {},
   "outputs": [
    {
     "data": {
      "text/html": [
       "<div>\n",
       "<style scoped>\n",
       "    .dataframe tbody tr th:only-of-type {\n",
       "        vertical-align: middle;\n",
       "    }\n",
       "\n",
       "    .dataframe tbody tr th {\n",
       "        vertical-align: top;\n",
       "    }\n",
       "\n",
       "    .dataframe thead th {\n",
       "        text-align: right;\n",
       "    }\n",
       "</style>\n",
       "<table border=\"1\" class=\"dataframe\">\n",
       "  <thead>\n",
       "    <tr style=\"text-align: right;\">\n",
       "      <th></th>\n",
       "      <th>Carimbo de data/hora</th>\n",
       "      <th>ID</th>\n",
       "      <th>INT1</th>\n",
       "      <th>INT2</th>\n",
       "      <th>INT3</th>\n",
       "      <th>INT4</th>\n",
       "      <th>INT5</th>\n",
       "      <th>INT6</th>\n",
       "      <th>INT7</th>\n",
       "    </tr>\n",
       "  </thead>\n",
       "  <tbody>\n",
       "    <tr>\n",
       "      <th>count</th>\n",
       "      <td>109</td>\n",
       "      <td>109.000000</td>\n",
       "      <td>109.000000</td>\n",
       "      <td>109.000000</td>\n",
       "      <td>109.000000</td>\n",
       "      <td>109.000000</td>\n",
       "      <td>109.000000</td>\n",
       "      <td>109.000000</td>\n",
       "      <td>109.00000</td>\n",
       "    </tr>\n",
       "    <tr>\n",
       "      <th>mean</th>\n",
       "      <td>2023-08-19 14:24:39.436596224</td>\n",
       "      <td>28.467890</td>\n",
       "      <td>4.477064</td>\n",
       "      <td>5.055046</td>\n",
       "      <td>4.220183</td>\n",
       "      <td>4.311927</td>\n",
       "      <td>2.935780</td>\n",
       "      <td>4.926606</td>\n",
       "      <td>4.66055</td>\n",
       "    </tr>\n",
       "    <tr>\n",
       "      <th>min</th>\n",
       "      <td>2023-08-16 20:28:09.434000</td>\n",
       "      <td>-1.000000</td>\n",
       "      <td>1.000000</td>\n",
       "      <td>1.000000</td>\n",
       "      <td>1.000000</td>\n",
       "      <td>1.000000</td>\n",
       "      <td>1.000000</td>\n",
       "      <td>1.000000</td>\n",
       "      <td>1.00000</td>\n",
       "    </tr>\n",
       "    <tr>\n",
       "      <th>25%</th>\n",
       "      <td>2023-08-16 20:39:51.788000</td>\n",
       "      <td>14.000000</td>\n",
       "      <td>4.000000</td>\n",
       "      <td>4.000000</td>\n",
       "      <td>3.000000</td>\n",
       "      <td>4.000000</td>\n",
       "      <td>1.000000</td>\n",
       "      <td>4.000000</td>\n",
       "      <td>4.00000</td>\n",
       "    </tr>\n",
       "    <tr>\n",
       "      <th>50%</th>\n",
       "      <td>2023-08-16 21:07:20.243000064</td>\n",
       "      <td>29.000000</td>\n",
       "      <td>4.000000</td>\n",
       "      <td>5.000000</td>\n",
       "      <td>4.000000</td>\n",
       "      <td>4.000000</td>\n",
       "      <td>3.000000</td>\n",
       "      <td>5.000000</td>\n",
       "      <td>5.00000</td>\n",
       "    </tr>\n",
       "    <tr>\n",
       "      <th>75%</th>\n",
       "      <td>2023-08-22 19:56:26.238000128</td>\n",
       "      <td>43.000000</td>\n",
       "      <td>5.000000</td>\n",
       "      <td>6.000000</td>\n",
       "      <td>5.000000</td>\n",
       "      <td>5.000000</td>\n",
       "      <td>4.000000</td>\n",
       "      <td>6.000000</td>\n",
       "      <td>6.00000</td>\n",
       "    </tr>\n",
       "    <tr>\n",
       "      <th>max</th>\n",
       "      <td>2023-08-22 20:06:47.046000</td>\n",
       "      <td>57.000000</td>\n",
       "      <td>7.000000</td>\n",
       "      <td>7.000000</td>\n",
       "      <td>7.000000</td>\n",
       "      <td>7.000000</td>\n",
       "      <td>7.000000</td>\n",
       "      <td>7.000000</td>\n",
       "      <td>7.00000</td>\n",
       "    </tr>\n",
       "    <tr>\n",
       "      <th>std</th>\n",
       "      <td>NaN</td>\n",
       "      <td>16.903631</td>\n",
       "      <td>1.543183</td>\n",
       "      <td>1.451914</td>\n",
       "      <td>1.571493</td>\n",
       "      <td>1.549774</td>\n",
       "      <td>1.796474</td>\n",
       "      <td>1.602697</td>\n",
       "      <td>1.69542</td>\n",
       "    </tr>\n",
       "  </tbody>\n",
       "</table>\n",
       "</div>"
      ],
      "text/plain": [
       "                Carimbo de data/hora          ID        INT1        INT2  \\\n",
       "count                            109  109.000000  109.000000  109.000000   \n",
       "mean   2023-08-19 14:24:39.436596224   28.467890    4.477064    5.055046   \n",
       "min       2023-08-16 20:28:09.434000   -1.000000    1.000000    1.000000   \n",
       "25%       2023-08-16 20:39:51.788000   14.000000    4.000000    4.000000   \n",
       "50%    2023-08-16 21:07:20.243000064   29.000000    4.000000    5.000000   \n",
       "75%    2023-08-22 19:56:26.238000128   43.000000    5.000000    6.000000   \n",
       "max       2023-08-22 20:06:47.046000   57.000000    7.000000    7.000000   \n",
       "std                              NaN   16.903631    1.543183    1.451914   \n",
       "\n",
       "             INT3        INT4        INT5        INT6       INT7  \n",
       "count  109.000000  109.000000  109.000000  109.000000  109.00000  \n",
       "mean     4.220183    4.311927    2.935780    4.926606    4.66055  \n",
       "min      1.000000    1.000000    1.000000    1.000000    1.00000  \n",
       "25%      3.000000    4.000000    1.000000    4.000000    4.00000  \n",
       "50%      4.000000    4.000000    3.000000    5.000000    5.00000  \n",
       "75%      5.000000    5.000000    4.000000    6.000000    6.00000  \n",
       "max      7.000000    7.000000    7.000000    7.000000    7.00000  \n",
       "std      1.571493    1.549774    1.796474    1.602697    1.69542  "
      ]
     },
     "execution_count": 15,
     "metadata": {},
     "output_type": "execute_result"
    }
   ],
   "source": [
    "dados.describe()"
   ]
  },
  {
   "cell_type": "code",
   "execution_count": 16,
   "metadata": {},
   "outputs": [
    {
     "data": {
      "text/plain": [
       "Turma\n",
       "A    59\n",
       "B    50\n",
       "Name: count, dtype: int64"
      ]
     },
     "execution_count": 16,
     "metadata": {},
     "output_type": "execute_result"
    }
   ],
   "source": [
    "dados.Turma.value_counts()"
   ]
  },
  {
   "cell_type": "code",
   "execution_count": 17,
   "metadata": {},
   "outputs": [
    {
     "data": {
      "text/plain": [
       "Texto\n",
       "B    58\n",
       "A    51\n",
       "Name: count, dtype: int64"
      ]
     },
     "execution_count": 17,
     "metadata": {},
     "output_type": "execute_result"
    }
   ],
   "source": [
    "dados.Texto.value_counts()"
   ]
  },
  {
   "cell_type": "code",
   "execution_count": 18,
   "metadata": {},
   "outputs": [
    {
     "name": "stdout",
     "output_type": "stream",
     "text": [
      "0      2\n",
      "1      2\n",
      "2      4\n",
      "3      1\n",
      "4      7\n",
      "      ..\n",
      "104    2\n",
      "105    2\n",
      "106    2\n",
      "107    3\n",
      "108    4\n",
      "Name: INT5, Length: 109, dtype: int64\n",
      "0      6\n",
      "1      6\n",
      "2      4\n",
      "3      7\n",
      "4      1\n",
      "      ..\n",
      "104    6\n",
      "105    6\n",
      "106    6\n",
      "107    5\n",
      "108    4\n",
      "Name: INT5, Length: 109, dtype: int64\n"
     ]
    }
   ],
   "source": [
    "print(dados.INT5)\n",
    "dados.INT5 = dados.INT5.map({1: 7, 2: 6, 3: 5, 4: 4, 5: 3, 6: 2, 7: 1})\n",
    "print(dados.INT5)"
   ]
  },
  {
   "cell_type": "code",
   "execution_count": 19,
   "metadata": {},
   "outputs": [
    {
     "data": {
      "text/plain": [
       "0      5.571429\n",
       "1      5.142857\n",
       "2      4.571429\n",
       "3      5.000000\n",
       "4      3.142857\n",
       "         ...   \n",
       "104    4.714286\n",
       "105    4.428571\n",
       "106    6.142857\n",
       "107    4.857143\n",
       "108    4.428571\n",
       "Length: 109, dtype: float64"
      ]
     },
     "execution_count": 19,
     "metadata": {},
     "output_type": "execute_result"
    }
   ],
   "source": [
    "\n",
    "interesse = (dados.INT1 + dados.INT2 + dados.INT3 + dados.INT4 + dados.INT5 + dados.INT6 + dados.INT7) / 7\n",
    "interesse"
   ]
  },
  {
   "cell_type": "code",
   "execution_count": 20,
   "metadata": {},
   "outputs": [
    {
     "data": {
      "text/plain": [
       "0      5.571429\n",
       "1      5.142857\n",
       "2      4.571429\n",
       "3      5.000000\n",
       "4      3.142857\n",
       "         ...   \n",
       "104    4.714286\n",
       "105    4.428571\n",
       "106    6.142857\n",
       "107    4.857143\n",
       "108    4.428571\n",
       "Name: INT, Length: 109, dtype: float64"
      ]
     },
     "execution_count": 20,
     "metadata": {},
     "output_type": "execute_result"
    }
   ],
   "source": [
    "dados[\"INT\"] = interesse\n",
    "dados.INT\n"
   ]
  },
  {
   "cell_type": "code",
   "execution_count": 21,
   "metadata": {},
   "outputs": [
    {
     "name": "stdout",
     "output_type": "stream",
     "text": [
      "(109, 12)\n",
      "(107, 12)\n"
     ]
    }
   ],
   "source": [
    "print(dados.shape)\n",
    "dados = dados[dados.ID >= 0]\n",
    "print(dados.shape)"
   ]
  },
  {
   "cell_type": "code",
   "execution_count": 22,
   "metadata": {},
   "outputs": [
    {
     "name": "stdout",
     "output_type": "stream",
     "text": [
      "(107, 12)\n",
      "(100, 12)\n"
     ]
    }
   ],
   "source": [
    "print(dados.shape)\n",
    "\n",
    "ids_duplos = dados.ID.value_counts().loc[lambda s: s == 2].index.tolist()\n",
    "\n",
    "dados = dados[dados.ID.isin(ids_duplos)]\n",
    "\n",
    "print(dados.shape)"
   ]
  },
  {
   "cell_type": "code",
   "execution_count": 23,
   "metadata": {},
   "outputs": [
    {
     "data": {
      "text/plain": [
       "(0.8835430652450528, array([0.845, 0.915]))"
      ]
     },
     "execution_count": 23,
     "metadata": {},
     "output_type": "execute_result"
    }
   ],
   "source": [
    "pg.cronbach_alpha(data=dados[['INT1', 'INT2', 'INT3', 'INT4', 'INT5', 'INT6', 'INT7']])"
   ]
  },
  {
   "cell_type": "code",
   "execution_count": 24,
   "metadata": {},
   "outputs": [
    {
     "name": "stdout",
     "output_type": "stream",
     "text": [
      "<class 'pandas.core.frame.DataFrame'>\n",
      "Index: 100 entries, 0 to 108\n",
      "Data columns (total 12 columns):\n",
      " #   Column                Non-Null Count  Dtype         \n",
      "---  ------                --------------  -----         \n",
      " 0   Carimbo de data/hora  100 non-null    datetime64[ns]\n",
      " 1   ID                    100 non-null    int64         \n",
      " 2   Turma                 100 non-null    object        \n",
      " 3   Texto                 100 non-null    object        \n",
      " 4   INT1                  100 non-null    int64         \n",
      " 5   INT2                  100 non-null    int64         \n",
      " 6   INT3                  100 non-null    int64         \n",
      " 7   INT4                  100 non-null    int64         \n",
      " 8   INT5                  100 non-null    int64         \n",
      " 9   INT6                  100 non-null    int64         \n",
      " 10  INT7                  100 non-null    int64         \n",
      " 11  INT                   100 non-null    float64       \n",
      "dtypes: datetime64[ns](1), float64(1), int64(8), object(2)\n",
      "memory usage: 10.2+ KB\n"
     ]
    }
   ],
   "source": [
    "dados.info()"
   ]
  },
  {
   "cell_type": "code",
   "execution_count": 25,
   "metadata": {},
   "outputs": [
    {
     "data": {
      "text/html": [
       "<div>\n",
       "<style scoped>\n",
       "    .dataframe tbody tr th:only-of-type {\n",
       "        vertical-align: middle;\n",
       "    }\n",
       "\n",
       "    .dataframe tbody tr th {\n",
       "        vertical-align: top;\n",
       "    }\n",
       "\n",
       "    .dataframe thead th {\n",
       "        text-align: right;\n",
       "    }\n",
       "</style>\n",
       "<table border=\"1\" class=\"dataframe\">\n",
       "  <thead>\n",
       "    <tr style=\"text-align: right;\">\n",
       "      <th></th>\n",
       "      <th>Carimbo de data/hora</th>\n",
       "      <th>ID</th>\n",
       "      <th>INT1</th>\n",
       "      <th>INT2</th>\n",
       "      <th>INT3</th>\n",
       "      <th>INT4</th>\n",
       "      <th>INT5</th>\n",
       "      <th>INT6</th>\n",
       "      <th>INT7</th>\n",
       "      <th>INT</th>\n",
       "    </tr>\n",
       "  </thead>\n",
       "  <tbody>\n",
       "    <tr>\n",
       "      <th>count</th>\n",
       "      <td>100</td>\n",
       "      <td>100.000000</td>\n",
       "      <td>100.000000</td>\n",
       "      <td>100.000000</td>\n",
       "      <td>100.000000</td>\n",
       "      <td>100.000000</td>\n",
       "      <td>100.000000</td>\n",
       "      <td>100.000000</td>\n",
       "      <td>100.000000</td>\n",
       "      <td>100.000000</td>\n",
       "    </tr>\n",
       "    <tr>\n",
       "      <th>mean</th>\n",
       "      <td>2023-08-19 17:25:36.276259840</td>\n",
       "      <td>29.040000</td>\n",
       "      <td>4.460000</td>\n",
       "      <td>5.060000</td>\n",
       "      <td>4.140000</td>\n",
       "      <td>4.270000</td>\n",
       "      <td>5.010000</td>\n",
       "      <td>4.920000</td>\n",
       "      <td>4.640000</td>\n",
       "      <td>4.642857</td>\n",
       "    </tr>\n",
       "    <tr>\n",
       "      <th>min</th>\n",
       "      <td>2023-08-16 20:28:09.434000</td>\n",
       "      <td>1.000000</td>\n",
       "      <td>1.000000</td>\n",
       "      <td>1.000000</td>\n",
       "      <td>1.000000</td>\n",
       "      <td>1.000000</td>\n",
       "      <td>1.000000</td>\n",
       "      <td>1.000000</td>\n",
       "      <td>1.000000</td>\n",
       "      <td>1.000000</td>\n",
       "    </tr>\n",
       "    <tr>\n",
       "      <th>25%</th>\n",
       "      <td>2023-08-16 20:39:26.599749888</td>\n",
       "      <td>14.000000</td>\n",
       "      <td>4.000000</td>\n",
       "      <td>4.000000</td>\n",
       "      <td>3.000000</td>\n",
       "      <td>3.000000</td>\n",
       "      <td>4.000000</td>\n",
       "      <td>4.000000</td>\n",
       "      <td>4.000000</td>\n",
       "      <td>3.964286</td>\n",
       "    </tr>\n",
       "    <tr>\n",
       "      <th>50%</th>\n",
       "      <td>2023-08-16 20:48:11.684000</td>\n",
       "      <td>29.500000</td>\n",
       "      <td>4.000000</td>\n",
       "      <td>5.000000</td>\n",
       "      <td>4.000000</td>\n",
       "      <td>4.000000</td>\n",
       "      <td>5.000000</td>\n",
       "      <td>5.000000</td>\n",
       "      <td>5.000000</td>\n",
       "      <td>4.714286</td>\n",
       "    </tr>\n",
       "    <tr>\n",
       "      <th>75%</th>\n",
       "      <td>2023-08-22 19:56:43.039000064</td>\n",
       "      <td>43.000000</td>\n",
       "      <td>5.000000</td>\n",
       "      <td>6.000000</td>\n",
       "      <td>5.000000</td>\n",
       "      <td>5.000000</td>\n",
       "      <td>7.000000</td>\n",
       "      <td>6.000000</td>\n",
       "      <td>6.000000</td>\n",
       "      <td>5.428571</td>\n",
       "    </tr>\n",
       "    <tr>\n",
       "      <th>max</th>\n",
       "      <td>2023-08-22 20:06:47.046000</td>\n",
       "      <td>57.000000</td>\n",
       "      <td>7.000000</td>\n",
       "      <td>7.000000</td>\n",
       "      <td>7.000000</td>\n",
       "      <td>7.000000</td>\n",
       "      <td>7.000000</td>\n",
       "      <td>7.000000</td>\n",
       "      <td>7.000000</td>\n",
       "      <td>7.000000</td>\n",
       "    </tr>\n",
       "    <tr>\n",
       "      <th>std</th>\n",
       "      <td>NaN</td>\n",
       "      <td>16.613199</td>\n",
       "      <td>1.553231</td>\n",
       "      <td>1.482695</td>\n",
       "      <td>1.589231</td>\n",
       "      <td>1.568986</td>\n",
       "      <td>1.828478</td>\n",
       "      <td>1.643352</td>\n",
       "      <td>1.726326</td>\n",
       "      <td>1.251427</td>\n",
       "    </tr>\n",
       "  </tbody>\n",
       "</table>\n",
       "</div>"
      ],
      "text/plain": [
       "                Carimbo de data/hora          ID        INT1        INT2  \\\n",
       "count                            100  100.000000  100.000000  100.000000   \n",
       "mean   2023-08-19 17:25:36.276259840   29.040000    4.460000    5.060000   \n",
       "min       2023-08-16 20:28:09.434000    1.000000    1.000000    1.000000   \n",
       "25%    2023-08-16 20:39:26.599749888   14.000000    4.000000    4.000000   \n",
       "50%       2023-08-16 20:48:11.684000   29.500000    4.000000    5.000000   \n",
       "75%    2023-08-22 19:56:43.039000064   43.000000    5.000000    6.000000   \n",
       "max       2023-08-22 20:06:47.046000   57.000000    7.000000    7.000000   \n",
       "std                              NaN   16.613199    1.553231    1.482695   \n",
       "\n",
       "             INT3        INT4        INT5        INT6        INT7         INT  \n",
       "count  100.000000  100.000000  100.000000  100.000000  100.000000  100.000000  \n",
       "mean     4.140000    4.270000    5.010000    4.920000    4.640000    4.642857  \n",
       "min      1.000000    1.000000    1.000000    1.000000    1.000000    1.000000  \n",
       "25%      3.000000    3.000000    4.000000    4.000000    4.000000    3.964286  \n",
       "50%      4.000000    4.000000    5.000000    5.000000    5.000000    4.714286  \n",
       "75%      5.000000    5.000000    7.000000    6.000000    6.000000    5.428571  \n",
       "max      7.000000    7.000000    7.000000    7.000000    7.000000    7.000000  \n",
       "std      1.589231    1.568986    1.828478    1.643352    1.726326    1.251427  "
      ]
     },
     "execution_count": 25,
     "metadata": {},
     "output_type": "execute_result"
    }
   ],
   "source": [
    "dados.describe()"
   ]
  },
  {
   "cell_type": "code",
   "execution_count": 26,
   "metadata": {},
   "outputs": [
    {
     "data": {
      "text/html": [
       "<div>\n",
       "<style scoped>\n",
       "    .dataframe tbody tr th:only-of-type {\n",
       "        vertical-align: middle;\n",
       "    }\n",
       "\n",
       "    .dataframe tbody tr th {\n",
       "        vertical-align: top;\n",
       "    }\n",
       "\n",
       "    .dataframe thead th {\n",
       "        text-align: right;\n",
       "    }\n",
       "</style>\n",
       "<table border=\"1\" class=\"dataframe\">\n",
       "  <thead>\n",
       "    <tr style=\"text-align: right;\">\n",
       "      <th></th>\n",
       "      <th>Turma</th>\n",
       "      <th>Texto</th>\n",
       "    </tr>\n",
       "  </thead>\n",
       "  <tbody>\n",
       "    <tr>\n",
       "      <th>count</th>\n",
       "      <td>100</td>\n",
       "      <td>100</td>\n",
       "    </tr>\n",
       "    <tr>\n",
       "      <th>unique</th>\n",
       "      <td>2</td>\n",
       "      <td>2</td>\n",
       "    </tr>\n",
       "    <tr>\n",
       "      <th>top</th>\n",
       "      <td>A</td>\n",
       "      <td>B</td>\n",
       "    </tr>\n",
       "    <tr>\n",
       "      <th>freq</th>\n",
       "      <td>52</td>\n",
       "      <td>51</td>\n",
       "    </tr>\n",
       "  </tbody>\n",
       "</table>\n",
       "</div>"
      ],
      "text/plain": [
       "       Turma Texto\n",
       "count    100   100\n",
       "unique     2     2\n",
       "top        A     B\n",
       "freq      52    51"
      ]
     },
     "execution_count": 26,
     "metadata": {},
     "output_type": "execute_result"
    }
   ],
   "source": [
    "dados.describe(include = \"object\")"
   ]
  },
  {
   "cell_type": "code",
   "execution_count": 27,
   "metadata": {},
   "outputs": [],
   "source": [
    "dados.to_csv(\"Dados Preparados.csv\")"
   ]
  },
  {
   "cell_type": "code",
   "execution_count": 28,
   "metadata": {},
   "outputs": [
    {
     "data": {
      "text/plain": [
       "4.642857142857143"
      ]
     },
     "execution_count": 28,
     "metadata": {},
     "output_type": "execute_result"
    }
   ],
   "source": [
    "#atividade 1 media\n",
    "dados.INT.mean()\n"
   ]
  },
  {
   "cell_type": "code",
   "execution_count": null,
   "metadata": {},
   "outputs": [],
   "source": [
    "#PROF SINCERAMENTE AQUI EU NAO SABIA E NEM SEI QUAL ERA A FORMULA PARA FAZER TANTO O DESVIO PADRÃO QUANTO O DE MEDIAS ENTAO TIVE QUE COPIAR DO GOOGLE\n",
    "\n",
    "desvio_padrao_medio = dados.std()\n",
    "\n",
    "# Calcule o nível de confiança desejado em 95%\n",
    "confianca = 0.95\n",
    "\n",
    "# aqui pede pra que calcule o erro padrão das médias\n",
    "erro_padrao_medio = stats.sem(dados)\n",
    "\n",
    "# aqui ta pedindo pra que calcule o intervalo de confiança pras medias \n",
    "intervalo_confiancas = stats.t.interval(confianca, len(dados) - 1, loc=dados, scale=erro_padrao_medio)\n",
    "\n",
    "# printis para exisbir tanto o intervalo de cnfiança quanto o desvio\n",
    "print(f'Desvio Padrão das Médias: {desvio_padrao_medio}')\n",
    "print(f'Intervalo de Confiança ({confianca * 100}%): {intervalo_confiancas}')"
   ]
  },
  {
   "cell_type": "code",
   "execution_count": 29,
   "metadata": {},
   "outputs": [],
   "source": [
    "#atividade 2\n",
    "media_por_turma = dados.groupby('Turma')[['INT1','INT2','INT3','INT4','INT5','INT6','INT7',]].mean()\n",
    "estatisticas_resumidas = media_por_turma.describe()"
   ]
  },
  {
   "cell_type": "code",
   "execution_count": 30,
   "metadata": {},
   "outputs": [
    {
     "name": "stdout",
     "output_type": "stream",
     "text": [
      "           INT1      INT2      INT3      INT4      INT5      INT6      INT7\n",
      "Turma                                                                      \n",
      "A      4.461538  4.961538  3.865385  4.230769  4.923077  5.057692  4.673077\n",
      "B      4.458333  5.166667  4.437500  4.312500  5.104167  4.770833  4.604167\n"
     ]
    }
   ],
   "source": [
    "print(media_por_turma)"
   ]
  },
  {
   "cell_type": "code",
   "execution_count": 38,
   "metadata": {},
   "outputs": [
    {
     "name": "stdout",
     "output_type": "stream",
     "text": [
      "Desvio Padrão das Médias: INT1    0.002266\n",
      "INT2    0.145048\n",
      "INT3    0.404547\n",
      "INT4    0.057792\n",
      "INT5    0.128050\n",
      "INT6    0.202840\n",
      "INT7    0.048727\n",
      "dtype: float64\n",
      "Intervalo de Confiança (95.0%): (array([[4.44117595, 3.65833798, 0.23067701, 3.71152529, 3.77259524,\n",
      "        3.23524788, 4.23528301],\n",
      "       [4.43797083, 3.86346618, 0.8027924 , 3.79325606, 3.95368499,\n",
      "        2.9483889 , 4.16637275]]), array([[4.48190097, 6.26473895, 7.50009222, 4.75001317, 6.0735586 ,\n",
      "        6.88013674, 5.11087084],\n",
      "       [4.47869584, 6.46986715, 8.0722076 , 4.83174394, 6.25464835,\n",
      "        6.59327776, 5.04196058]]))\n"
     ]
    }
   ],
   "source": [
    "\n",
    "# Calcule o bagulho ta calculando o desvio padrão das medias\n",
    "desvio_padrao_medio = media_por_turma.std()\n",
    "\n",
    "# Calcule o nível de confiança desejado em 95%\n",
    "confianca = 0.95\n",
    "\n",
    "# aqui pede pra que calcule o erro padrão das médias\n",
    "erro_padrao_medio = stats.sem(media_por_turma)\n",
    "\n",
    "# aqui ta pedindo pra que calcule o intervalo de confiança pras medias \n",
    "intervalo_confiancas = stats.t.interval(confianca, len(media_por_turma) - 1, loc=media_por_turma, scale=erro_padrao_medio)\n",
    "\n",
    "# printis para exisbir tanto o intervalo de cnfiança quanto o desvio\n",
    "print(f'Desvio Padrão das Médias: {desvio_padrao_medio}')\n",
    "print(f'Intervalo de Confiança ({confianca * 100}%): {intervalo_confiancas}')"
   ]
  },
  {
   "cell_type": "code",
   "execution_count": 31,
   "metadata": {},
   "outputs": [],
   "source": [
    "#atividade 3\n",
    "media_de_texto = dados.groupby('Texto')[['INT1','INT2','INT3','INT4','INT5','INT6','INT7',]].mean()\n",
    "estatisticas_resumidas = media_de_texto.describe()"
   ]
  },
  {
   "cell_type": "code",
   "execution_count": 32,
   "metadata": {},
   "outputs": [
    {
     "name": "stdout",
     "output_type": "stream",
     "text": [
      "           INT1      INT2      INT3      INT4      INT5      INT6      INT7\n",
      "Texto                                                                      \n",
      "A      4.326531  5.000000  3.836735  4.122449  4.979592  4.857143  4.530612\n",
      "B      4.588235  5.117647  4.431373  4.411765  5.039216  4.980392  4.745098\n"
     ]
    }
   ],
   "source": [
    "print(media_de_texto)"
   ]
  },
  {
   "cell_type": "code",
   "execution_count": 37,
   "metadata": {},
   "outputs": [
    {
     "name": "stdout",
     "output_type": "stream",
     "text": [
      "Desvio Padrão das Médias: /nINT1    0.185053\n",
      "INT2    0.083189\n",
      "INT3    0.420472\n",
      "INT4    0.204577\n",
      "INT5    0.042160\n",
      "INT6    0.087150\n",
      "INT7    0.151664\n",
      "dtype: float64\n",
      "Intervalo de Confiança (95.0%): (array([[2.66389398, 4.25257619, 0.05893953, 2.28439655, 4.60079542,\n",
      "        4.07412744, 3.16796204],\n",
      "       [2.92559866, 4.37022325, 0.65357738, 2.57371228, 4.66041927,\n",
      "        4.19737674, 3.38244783]]), array([[5.98916725, 5.74742381, 7.61452986, 5.96050141, 5.35838826,\n",
      "        5.64015828, 5.89326245],\n",
      "       [6.25087193, 5.86507087, 8.20916771, 6.24981713, 5.41801211,\n",
      "        5.76340757, 6.10774825]]))\n"
     ]
    }
   ],
   "source": [
    "\n",
    "# Calcule o bagulho ta calculando o desvio padrão das medias\n",
    "desvio_padrao_media = media_de_texto.std()\n",
    "\n",
    "# Calcule o nível de confiança desejado em 95%\n",
    "confianca = 0.95\n",
    "\n",
    "# aqui pede pra que calcule o erro padrão das médias\n",
    "erro_padrao_media = stats.sem(media_de_texto)\n",
    "\n",
    "# aqui ta pedindo pra que calcule o intervalo de confiança pras medias \n",
    "intervalo_confianca = stats.t.interval(confianca, len(media_de_texto) - 1, loc=media_de_texto, scale=erro_padrao_media)\n",
    "\n",
    "# printis para exisbir tanto o intervalo de cnfiança quanto o desvio\n",
    "print(f'Desvio Padrão das Médias: {desvio_padrao_media}')\n",
    "print(f'Intervalo de Confiança ({confianca * 100}%): {intervalo_confianca}')"
   ]
  }
 ],
 "metadata": {
  "kernelspec": {
   "display_name": "Python 3",
   "language": "python",
   "name": "python3"
  },
  "language_info": {
   "codemirror_mode": {
    "name": "ipython",
    "version": 3
   },
   "file_extension": ".py",
   "mimetype": "text/x-python",
   "name": "python",
   "nbconvert_exporter": "python",
   "pygments_lexer": "ipython3",
   "version": "3.11.4"
  },
  "orig_nbformat": 4
 },
 "nbformat": 4,
 "nbformat_minor": 2
}
